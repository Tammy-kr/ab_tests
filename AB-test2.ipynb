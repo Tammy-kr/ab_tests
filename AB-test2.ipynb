{
 "cells": [
  {
   "cell_type": "code",
   "execution_count": 33,
   "id": "7a1ba291-8f44-43a4-8861-a80ed16e4330",
   "metadata": {},
   "outputs": [],
   "source": [
    "import pandahouse\n",
    "import pandas as pd\n",
    "import seaborn as sns\n",
    "import matplotlib.pyplot as plt\n",
    "import numpy as np\n",
    "import hashlib\n",
    "from scipy import stats\n",
    "%matplotlib inline"
   ]
  },
  {
   "cell_type": "code",
   "execution_count": 34,
   "id": "72ef7744-55e1-4d98-b519-5df3f6bc16da",
   "metadata": {},
   "outputs": [],
   "source": [
    "connection = {\n",
    "'host': 'https://',\n",
    "'password': '####',\n",
    "'user': '####',\n",
    "'database': '####'\n",
    "}"
   ]
  },
  {
   "cell_type": "code",
   "execution_count": 35,
   "id": "6de27f48-209c-4f66-bda0-be6f12797404",
   "metadata": {},
   "outputs": [],
   "source": [
    "q = \"\"\"\n",
    "SELECT exp_group,\n",
    "    user_id,\n",
    "    sum(action = 'like') as likes,\n",
    "    sum(action = 'view') as views,\n",
    "    likes / views as ctr\n",
    "FROM {db}.feed_actions\n",
    "WHERE toDate(time) between '2022-12-02' and '2022-12-08'\n",
    "    and exp_group in (0,1,2,3)\n",
    "GROUP BY exp_group, user_id\n",
    "\"\"\"\n",
    "df = pandahouse.read_clickhouse(q, connection=connection)"
   ]
  },
  {
   "cell_type": "code",
   "execution_count": 36,
   "id": "7105f45b-a79e-4ee5-825f-85c85bc91e1a",
   "metadata": {},
   "outputs": [],
   "source": [
    "# Common CTR in control groups 0, 1\n",
    "global_ctr_0 = df[df.exp_group == 0].likes.sum() / df[df.exp_group == 0].views.sum() \n",
    "global_ctr_1 = df[df.exp_group == 1].likes.sum() / df[df.exp_group == 1].views.sum() "
   ]
  },
  {
   "cell_type": "code",
   "execution_count": 37,
   "id": "4c7f1d94-9b5c-41ee-91ef-11c9d489a7ea",
   "metadata": {},
   "outputs": [
    {
     "data": {
      "text/plain": [
       "0.20823612262916305"
      ]
     },
     "execution_count": 37,
     "metadata": {},
     "output_type": "execute_result"
    }
   ],
   "source": [
    "global_ctr_0"
   ]
  },
  {
   "cell_type": "code",
   "execution_count": 38,
   "id": "e19ae1e3-2479-4e6f-8f38-2b6d719c68f7",
   "metadata": {},
   "outputs": [
    {
     "data": {
      "text/plain": [
       "0.20802680490126244"
      ]
     },
     "execution_count": 38,
     "metadata": {},
     "output_type": "execute_result"
    }
   ],
   "source": [
    "global_ctr_1"
   ]
  },
  {
   "cell_type": "code",
   "execution_count": 39,
   "id": "29dbabf3-02c4-4433-9d4c-8262c75f2db7",
   "metadata": {},
   "outputs": [],
   "source": [
    "group_0 = df[df.exp_group == 0].copy()\n",
    "group_1 = df[df.exp_group == 1].copy()\n",
    "group_2 = df[df.exp_group == 2].copy()\n",
    "group_3 = df[df.exp_group == 3].copy()"
   ]
  },
  {
   "cell_type": "code",
   "execution_count": 55,
   "id": "0fd82964-f709-40a6-a593-424798346a8e",
   "metadata": {},
   "outputs": [],
   "source": [
    "# Metric of linearized likes in control groups 0, 1, 2, 3\n",
    "group_0['linearized_likes'] = group_0['likes'] - (global_ctr_0 * group_0['views'])\n",
    "group_1['linearized_likes'] = group_1['likes'] - (global_ctr_1 * group_1['views'])\n",
    "group_2['linearized_likes'] = group_2['likes'] - (global_ctr_1 * group_2['views'])\n",
    "group_3['linearized_likes'] = group_3['likes'] - (global_ctr_0 * group_3['views'])"
   ]
  },
  {
   "cell_type": "code",
   "execution_count": 41,
   "id": "9957cc8a-7990-4722-9eb5-839ad138aff4",
   "metadata": {},
   "outputs": [
    {
     "data": {
      "text/html": [
       "<div>\n",
       "<style scoped>\n",
       "    .dataframe tbody tr th:only-of-type {\n",
       "        vertical-align: middle;\n",
       "    }\n",
       "\n",
       "    .dataframe tbody tr th {\n",
       "        vertical-align: top;\n",
       "    }\n",
       "\n",
       "    .dataframe thead th {\n",
       "        text-align: right;\n",
       "    }\n",
       "</style>\n",
       "<table border=\"1\" class=\"dataframe\">\n",
       "  <thead>\n",
       "    <tr style=\"text-align: right;\">\n",
       "      <th></th>\n",
       "      <th>exp_group</th>\n",
       "      <th>user_id</th>\n",
       "      <th>likes</th>\n",
       "      <th>views</th>\n",
       "      <th>ctr</th>\n",
       "      <th>linearized_likes</th>\n",
       "    </tr>\n",
       "  </thead>\n",
       "  <tbody>\n",
       "    <tr>\n",
       "      <th>0</th>\n",
       "      <td>0</td>\n",
       "      <td>30319</td>\n",
       "      <td>21</td>\n",
       "      <td>110</td>\n",
       "      <td>0.190909</td>\n",
       "      <td>-1.905973</td>\n",
       "    </tr>\n",
       "    <tr>\n",
       "      <th>1</th>\n",
       "      <td>0</td>\n",
       "      <td>7626</td>\n",
       "      <td>14</td>\n",
       "      <td>39</td>\n",
       "      <td>0.358974</td>\n",
       "      <td>5.878791</td>\n",
       "    </tr>\n",
       "    <tr>\n",
       "      <th>2</th>\n",
       "      <td>0</td>\n",
       "      <td>111277</td>\n",
       "      <td>2</td>\n",
       "      <td>13</td>\n",
       "      <td>0.153846</td>\n",
       "      <td>-0.707070</td>\n",
       "    </tr>\n",
       "    <tr>\n",
       "      <th>3</th>\n",
       "      <td>0</td>\n",
       "      <td>27199</td>\n",
       "      <td>4</td>\n",
       "      <td>34</td>\n",
       "      <td>0.117647</td>\n",
       "      <td>-3.080028</td>\n",
       "    </tr>\n",
       "    <tr>\n",
       "      <th>4</th>\n",
       "      <td>0</td>\n",
       "      <td>3450</td>\n",
       "      <td>10</td>\n",
       "      <td>42</td>\n",
       "      <td>0.238095</td>\n",
       "      <td>1.254083</td>\n",
       "    </tr>\n",
       "    <tr>\n",
       "      <th>...</th>\n",
       "      <td>...</td>\n",
       "      <td>...</td>\n",
       "      <td>...</td>\n",
       "      <td>...</td>\n",
       "      <td>...</td>\n",
       "      <td>...</td>\n",
       "    </tr>\n",
       "    <tr>\n",
       "      <th>40074</th>\n",
       "      <td>3</td>\n",
       "      <td>108659</td>\n",
       "      <td>0</td>\n",
       "      <td>9</td>\n",
       "      <td>0.000000</td>\n",
       "      <td>-1.874125</td>\n",
       "    </tr>\n",
       "    <tr>\n",
       "      <th>40075</th>\n",
       "      <td>3</td>\n",
       "      <td>123869</td>\n",
       "      <td>24</td>\n",
       "      <td>78</td>\n",
       "      <td>0.307692</td>\n",
       "      <td>7.757582</td>\n",
       "    </tr>\n",
       "    <tr>\n",
       "      <th>40076</th>\n",
       "      <td>3</td>\n",
       "      <td>11263</td>\n",
       "      <td>25</td>\n",
       "      <td>62</td>\n",
       "      <td>0.403226</td>\n",
       "      <td>12.089360</td>\n",
       "    </tr>\n",
       "    <tr>\n",
       "      <th>40077</th>\n",
       "      <td>3</td>\n",
       "      <td>122758</td>\n",
       "      <td>30</td>\n",
       "      <td>198</td>\n",
       "      <td>0.151515</td>\n",
       "      <td>-11.230752</td>\n",
       "    </tr>\n",
       "    <tr>\n",
       "      <th>40078</th>\n",
       "      <td>3</td>\n",
       "      <td>122190</td>\n",
       "      <td>19</td>\n",
       "      <td>65</td>\n",
       "      <td>0.292308</td>\n",
       "      <td>5.464652</td>\n",
       "    </tr>\n",
       "  </tbody>\n",
       "</table>\n",
       "<p>40079 rows × 6 columns</p>\n",
       "</div>"
      ],
      "text/plain": [
       "       exp_group  user_id  likes  views       ctr  linearized_likes\n",
       "0              0    30319     21    110  0.190909         -1.905973\n",
       "1              0     7626     14     39  0.358974          5.878791\n",
       "2              0   111277      2     13  0.153846         -0.707070\n",
       "3              0    27199      4     34  0.117647         -3.080028\n",
       "4              0     3450     10     42  0.238095          1.254083\n",
       "...          ...      ...    ...    ...       ...               ...\n",
       "40074          3   108659      0      9  0.000000         -1.874125\n",
       "40075          3   123869     24     78  0.307692          7.757582\n",
       "40076          3    11263     25     62  0.403226         12.089360\n",
       "40077          3   122758     30    198  0.151515        -11.230752\n",
       "40078          3   122190     19     65  0.292308          5.464652\n",
       "\n",
       "[40079 rows x 6 columns]"
      ]
     },
     "execution_count": 41,
     "metadata": {},
     "output_type": "execute_result"
    }
   ],
   "source": [
    "linearized_df = pd.concat([group_0, group_1, group_2,group_3], ignore_index = True)\n",
    "linearized_df"
   ]
  },
  {
   "cell_type": "markdown",
   "id": "c266c1d4-ee09-4ee2-bb7c-25d44e4c0d7d",
   "metadata": {},
   "source": [
    "Let's see the groups 0 and 3"
   ]
  },
  {
   "cell_type": "code",
   "execution_count": 42,
   "id": "69be1d70-ca37-4615-a843-42285df3e4f1",
   "metadata": {},
   "outputs": [],
   "source": [
    "linearized_df_0_3 = pd.concat([group_0,group_3], ignore_index = True)"
   ]
  },
  {
   "cell_type": "code",
   "execution_count": 43,
   "id": "759171ce-e389-42e7-9f40-e4b43cdb5fcb",
   "metadata": {},
   "outputs": [
    {
     "data": {
      "image/png": "[encoded data removed]",
      "text/plain": [
       "<Figure size 792x576 with 1 Axes>"
      ]
     },
     "metadata": {},
     "output_type": "display_data"
    }
   ],
   "source": [
    "sns.set(rc={'figure.figsize':(11,8)})\n",
    "\n",
    "groups = sns.histplot(data = linearized_df_0_3,\n",
    "                      x='ctr',\n",
    "                      hue='exp_group',\n",
    "                      palette=['red', 'blue'],\n",
    "                      alpha=0.2,\n",
    "                      kde=True)"
   ]
  },
  {
   "cell_type": "code",
   "execution_count": 44,
   "id": "c20e4133-3465-4f1e-bf4f-cd44bf03a4ff",
   "metadata": {},
   "outputs": [
    {
     "name": "stdout",
     "output_type": "stream",
     "text": [
      "Результат при проведении t-теста p-value для ctr =  1.055849414662529e-43\n"
     ]
    }
   ],
   "source": [
    "# t-test for CTR in 0,3 groups\n",
    "\n",
    "_, pval_t_ctr = stats.ttest_ind(linearized_df[linearized_df.exp_group == 0].ctr,\n",
    "               linearized_df[linearized_df.exp_group == 3].ctr,\n",
    "               equal_var=False)\n",
    "print('Результат при проведении t-теста p-value для ctr = ', pval_t_ctr)"
   ]
  },
  {
   "cell_type": "code",
   "execution_count": 45,
   "id": "f57820d6-b23a-44ae-8268-736f0b6c2d6c",
   "metadata": {},
   "outputs": [
    {
     "name": "stdout",
     "output_type": "stream",
     "text": [
      "Результат при проведении t-теста p-value для likes =  5.4914249479690016e-52\n"
     ]
    }
   ],
   "source": [
    "# t-test for likes in groups 0 and 3\n",
    "\n",
    "_, pval_t_like = stats.ttest_ind(linearized_df[linearized_df.exp_group == 0].linearized_likes,\n",
    "               linearized_df[linearized_df.exp_group == 3].linearized_likes,\n",
    "               equal_var=False)\n",
    "print('Результат при проведении t-теста p-value для likes = ', pval_t_like)"
   ]
  },
  {
   "cell_type": "code",
   "execution_count": 46,
   "id": "2ffb2cf3-ca66-40cc-bc6a-228af878b7e6",
   "metadata": {},
   "outputs": [
    {
     "name": "stdout",
     "output_type": "stream",
     "text": [
      "Результат при проведении теста Манна-Уитни p-value для ctr =  1.1952055473582936e-57\n"
     ]
    }
   ],
   "source": [
    "# Mann-Whitney test for CTR in groups 0 and 3\n",
    "\n",
    "_, pval_mw_ctr = stats.mannwhitneyu(linearized_df[linearized_df.exp_group == 0].ctr,\n",
    "               linearized_df[linearized_df.exp_group == 3].ctr,\n",
    "               alternative='two-sided')\n",
    "print('Результат при проведении теста Манна-Уитни p-value для ctr = ', pval_mw_ctr)"
   ]
  },
  {
   "cell_type": "code",
   "execution_count": 47,
   "id": "df2b2ed0-b3a1-4af1-9aa8-3a5ca2d0bca3",
   "metadata": {},
   "outputs": [
    {
     "name": "stdout",
     "output_type": "stream",
     "text": [
      "Результат при проведении теста Манна-Уитни p-value для ctr =  1.1517315029786597e-63\n"
     ]
    }
   ],
   "source": [
    "# Mann-Whitney test for likes in groups 0 and 3\n",
    "\n",
    "_, pval_mw_like = stats.mannwhitneyu(linearized_df[linearized_df.exp_group == 0].linearized_likes,\n",
    "               linearized_df[linearized_df.exp_group == 3].linearized_likes,\n",
    "               alternative='two-sided')\n",
    "print('Результат при проведении теста Манна-Уитни p-value для ctr = ', pval_mw_like)"
   ]
  },
  {
   "cell_type": "markdown",
   "id": "54ec77b2-2acb-45a3-a7d4-383ebd432709",
   "metadata": {},
   "source": [
    "The tests in groups 0 and 3 show that the linearized likes method did not affect the interpretation of the results, since the p-value turned out to be very close to zero both when comparing likes and when comparing ctr. It can be seen from the graph that the distributions of ctr in groups 0 and 3 are close to normal."
   ]
  },
  {
   "cell_type": "markdown",
   "id": "a9be9a50-a662-40d8-a1db-bbd142a6a71b",
   "metadata": {},
   "source": [
    "Let's see groups 1 and 2"
   ]
  },
  {
   "cell_type": "code",
   "execution_count": 49,
   "id": "3fdb7d71-ca97-4c16-95ba-94b3df132f92",
   "metadata": {},
   "outputs": [],
   "source": [
    "linearized_df_1_2 = pd.concat([group_1,group_2], ignore_index = True)"
   ]
  },
  {
   "cell_type": "code",
   "execution_count": 50,
   "id": "dc9226a8-70d6-4875-a0ca-941e6856c5cb",
   "metadata": {},
   "outputs": [
    {
     "data": {
      "image/png": "[encoded data removed]",
      "text/plain": [
       "<Figure size 792x576 with 1 Axes>"
      ]
     },
     "metadata": {},
     "output_type": "display_data"
    }
   ],
   "source": [
    "sns.set(rc={'figure.figsize':(11,8)})\n",
    "\n",
    "groups = sns.histplot(data = linearized_df_1_2,\n",
    "                      x='ctr',\n",
    "                      hue='exp_group',\n",
    "                      palette=['green', 'purple'],\n",
    "                      alpha=0.2,\n",
    "                      kde=True)"
   ]
  },
  {
   "cell_type": "code",
   "execution_count": 51,
   "id": "7d47c14e-833f-4f7d-b194-22cff900eb00",
   "metadata": {},
   "outputs": [
    {
     "name": "stdout",
     "output_type": "stream",
     "text": [
      "Результат при проведении t-теста p-value для ctr =  0.4780623130874935\n"
     ]
    }
   ],
   "source": [
    "# t-test for ctr in groups 1 and 2\n",
    "\n",
    "_, pval_t_ctr = stats.ttest_ind(linearized_df[linearized_df.exp_group == 1].ctr,\n",
    "               linearized_df[linearized_df.exp_group == 2].ctr,\n",
    "               equal_var=False)\n",
    "print('Результат при проведении t-теста p-value для ctr = ', pval_t_ctr)"
   ]
  },
  {
   "cell_type": "code",
   "execution_count": 52,
   "id": "d4f0222a-9ccc-4774-838d-e3861175ee78",
   "metadata": {},
   "outputs": [
    {
     "name": "stdout",
     "output_type": "stream",
     "text": [
      "Результат при проведении p-value для likes =  9.439432187037712e-10\n"
     ]
    }
   ],
   "source": [
    "# t-test for likes in groups 1 and 2\n",
    "\n",
    "_, pval_t_like = stats.ttest_ind(linearized_df[linearized_df.exp_group == 1].linearized_likes,\n",
    "               linearized_df[linearized_df.exp_group == 2].linearized_likes,\n",
    "               equal_var=False)\n",
    "print('Результат при проведении p-value для likes = ', pval_t_like)"
   ]
  },
  {
   "cell_type": "code",
   "execution_count": 53,
   "id": "538b715b-08a3-4ae6-827e-a1773efc28d0",
   "metadata": {},
   "outputs": [
    {
     "name": "stdout",
     "output_type": "stream",
     "text": [
      "Результат при проведении теста Манна-Уитни p-value для ctr =  6.0376484617779035e-56\n"
     ]
    }
   ],
   "source": [
    "# Mann-Whitney test for ctr in groups 1 and 2\n",
    "\n",
    "_, pval_mw_ctr = stats.mannwhitneyu(linearized_df[linearized_df.exp_group == 1].ctr,\n",
    "               linearized_df[linearized_df.exp_group == 2].ctr,\n",
    "               alternative='two-sided')\n",
    "print('Результат при проведении теста Манна-Уитни p-value для ctr = ', pval_mw_ctr)"
   ]
  },
  {
   "cell_type": "code",
   "execution_count": 54,
   "id": "5205d32e-5126-4dd9-880f-8afce9b76186",
   "metadata": {},
   "outputs": [
    {
     "name": "stdout",
     "output_type": "stream",
     "text": [
      "Результат при проведении теста Манна-Уитни p-value для ctr =  9.404319579641738e-27\n"
     ]
    }
   ],
   "source": [
    "# Mann-Whitney test for likes in groups 1 and 2\n",
    "\n",
    "_, pval_mw_likes = stats.mannwhitneyu(linearized_df[linearized_df.exp_group == 1].linearized_likes,\n",
    "               linearized_df[linearized_df.exp_group == 2].linearized_likes,\n",
    "               alternative='two-sided')\n",
    "print('Результат при проведении теста Манна-Уитни p-value для ctr = ', pval_mw_likes)"
   ]
  },
  {
   "cell_type": "markdown",
   "id": "ef23b316-d56c-41b9-9a6b-f83f62e9b5d5",
   "metadata": {},
   "source": [
    "The tests in groups 1 and 2 show that the t-test gives a very large p-value when comparing ctr, unlike likes, which allows us to reject the H0 about the equality of the distributions of the test and control groups. The Mann-Whitney test works correctly both in the case of ctr and likes.\n",
    "\n"
   ]
  },
  {
   "cell_type": "markdown",
   "id": "6eb85cba-a74d-4c96-93b6-af52bb309db6",
   "metadata": {},
   "source": [
    "Total:\n",
    "When conducting a t-test with counting likes instead of ctr when comparing groups 0 and 3, the p-value did not change, which does not allow us to reject the H0, unlike groups 1 and 2, where counting likes instead of ctr reduced the p-value , which allows us to reject the hypothesis about the equality of the distributions of the test and control groups.\n",
    "\n",
    "When conducting the Mann-Whitney test, the p-value did not change significantly when comparing groups 0 and 3, as well as groups 1 and 2.\n",
    "\n"
   ]
  },
  {
   "cell_type": "code",
   "execution_count": null,
   "id": "e2f70257-cee1-4aab-9b6a-022bc37d385e",
   "metadata": {},
   "outputs": [],
   "source": []
  }
 ],
 "metadata": {
  "kernelspec": {
   "display_name": "Python 3 (ipykernel)",
   "language": "python",
   "name": "python3"
  },
  "language_info": {
   "codemirror_mode": {
    "name": "ipython",
    "version": 3
   },
   "file_extension": ".py",
   "mimetype": "text/x-python",
   "name": "python",
   "nbconvert_exporter": "python",
   "pygments_lexer": "ipython3",
   "version": "3.9.1"
  }
 },
 "nbformat": 4,
 "nbformat_minor": 5
}