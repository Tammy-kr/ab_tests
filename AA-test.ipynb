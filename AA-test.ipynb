{
 "cells": [
  {
   "cell_type": "code",
   "execution_count": 43,
   "id": "91739cc9-fcdb-43e1-8917-1e0ef9f47fa4",
   "metadata": {},
   "outputs": [],
   "source": [
    "import pandahouse\n",
    "import pandas as pd\n",
    "import seaborn as sns\n",
    "import matplotlib.pyplot as plt\n",
    "import numpy as np\n",
    "import hashlib\n",
    "#import swifter\n",
    "from scipy import stats\n",
    "%matplotlib inline"
   ]
  },
  {
   "cell_type": "code",
   "execution_count": 44,
   "id": "d69801fe-d959-4471-9871-3421402cdb3b",
   "metadata": {},
   "outputs": [],
   "source": [
    "connection = {\n",
    "'host': 'https://',\n",
    "'password': '####',\n",
    "'user': '####',\n",
    "'database': '####'\n",
    "}"
   ]
  },
  {
   "cell_type": "code",
   "execution_count": 45,
   "id": "51a1378f-87a6-4afb-b2f0-a7cd7d088fc5",
   "metadata": {},
   "outputs": [
    {
     "data": {
      "text/html": [
       "<div>\n",
       "<style scoped>\n",
       "    .dataframe tbody tr th:only-of-type {\n",
       "        vertical-align: middle;\n",
       "    }\n",
       "\n",
       "    .dataframe tbody tr th {\n",
       "        vertical-align: top;\n",
       "    }\n",
       "\n",
       "    .dataframe thead th {\n",
       "        text-align: right;\n",
       "    }\n",
       "</style>\n",
       "<table border=\"1\" class=\"dataframe\">\n",
       "  <thead>\n",
       "    <tr style=\"text-align: right;\">\n",
       "      <th></th>\n",
       "      <th>group</th>\n",
       "      <th>uniqExact(user_id)</th>\n",
       "    </tr>\n",
       "  </thead>\n",
       "  <tbody>\n",
       "    <tr>\n",
       "      <th>0</th>\n",
       "      <td>0</td>\n",
       "      <td>8552</td>\n",
       "    </tr>\n",
       "    <tr>\n",
       "      <th>1</th>\n",
       "      <td>1</td>\n",
       "      <td>8496</td>\n",
       "    </tr>\n",
       "    <tr>\n",
       "      <th>2</th>\n",
       "      <td>2</td>\n",
       "      <td>8491</td>\n",
       "    </tr>\n",
       "    <tr>\n",
       "      <th>3</th>\n",
       "      <td>3</td>\n",
       "      <td>8559</td>\n",
       "    </tr>\n",
       "    <tr>\n",
       "      <th>4</th>\n",
       "      <td>4</td>\n",
       "      <td>8487</td>\n",
       "    </tr>\n",
       "  </tbody>\n",
       "</table>\n",
       "</div>"
      ],
      "text/plain": [
       "   group  uniqExact(user_id)\n",
       "0      0                8552\n",
       "1      1                8496\n",
       "2      2                8491\n",
       "3      3                8559\n",
       "4      4                8487"
      ]
     },
     "execution_count": 45,
     "metadata": {},
     "output_type": "execute_result"
    }
   ],
   "source": [
    "q = \"\"\"\n",
    "SELECT xxHash64(toString(user_id)||'my_salt')%5 as group,\n",
    "    uniqExact(user_id)\n",
    "FROM {db}.feed_actions\n",
    "WHERE toDate(time) >= '2022-11-25' and toDate(time) <= '2022-12-01'\n",
    "group by group\n",
    "\"\"\"\n",
    "pandahouse.read_clickhouse(q, connection=connection)\n"
   ]
  },
  {
   "cell_type": "code",
   "execution_count": 46,
   "id": "64c73889-d33f-4a7b-a3ce-646a11b0311e",
   "metadata": {},
   "outputs": [
    {
     "data": {
      "text/html": [
       "<div>\n",
       "<style scoped>\n",
       "    .dataframe tbody tr th:only-of-type {\n",
       "        vertical-align: middle;\n",
       "    }\n",
       "\n",
       "    .dataframe tbody tr th {\n",
       "        vertical-align: top;\n",
       "    }\n",
       "\n",
       "    .dataframe thead th {\n",
       "        text-align: right;\n",
       "    }\n",
       "</style>\n",
       "<table border=\"1\" class=\"dataframe\">\n",
       "  <thead>\n",
       "    <tr style=\"text-align: right;\">\n",
       "      <th></th>\n",
       "      <th>user_id</th>\n",
       "      <th>likes</th>\n",
       "      <th>views</th>\n",
       "      <th>ctr</th>\n",
       "    </tr>\n",
       "    <tr>\n",
       "      <th>exp_group</th>\n",
       "      <th></th>\n",
       "      <th></th>\n",
       "      <th></th>\n",
       "      <th></th>\n",
       "    </tr>\n",
       "  </thead>\n",
       "  <tbody>\n",
       "    <tr>\n",
       "      <th>2</th>\n",
       "      <td>8480</td>\n",
       "      <td>8480</td>\n",
       "      <td>8480</td>\n",
       "      <td>8480</td>\n",
       "    </tr>\n",
       "    <tr>\n",
       "      <th>3</th>\n",
       "      <td>8569</td>\n",
       "      <td>8569</td>\n",
       "      <td>8569</td>\n",
       "      <td>8569</td>\n",
       "    </tr>\n",
       "  </tbody>\n",
       "</table>\n",
       "</div>"
      ],
      "text/plain": [
       "           user_id  likes  views   ctr\n",
       "exp_group                             \n",
       "2             8480   8480   8480  8480\n",
       "3             8569   8569   8569  8569"
      ]
     },
     "execution_count": 46,
     "metadata": {},
     "output_type": "execute_result"
    }
   ],
   "source": [
    "q = \"\"\"\n",
    "SELECT exp_group,\n",
    "    user_id,\n",
    "    sum(action = 'like') as likes,\n",
    "    sum(action = 'view') as views,\n",
    "    likes/views as ctr\n",
    "FROM {db}.feed_actions\n",
    "WHERE toDate(time) between '2022-11-25' and '2022-12-01'\n",
    "    and exp_group in (2,3)\n",
    "GROUP BY exp_group, user_id\n",
    "\"\"\"\n",
    "df = pandahouse.read_clickhouse(q, connection=connection)\n",
    "df.groupby('exp_group').count()"
   ]
  },
  {
   "cell_type": "code",
   "execution_count": 47,
   "id": "d6e11160-fe25-4278-ba9c-77175a05db20",
   "metadata": {},
   "outputs": [
    {
     "data": {
      "image/png": "[encoded data removed]",
      "text/plain": [
       "<Figure size 842.4x595.44 with 1 Axes>"
      ]
     },
     "metadata": {},
     "output_type": "display_data"
    }
   ],
   "source": [
    "sns.set(rc={'figure.figsize':(11.7,8.27)})\n",
    "groups = sns.histplot(data = df,\n",
    "x='ctr',\n",
    "hue='exp_group',\n",
    "palette = ['r', 'b'],\n",
    "alpha=0.5,\n",
    "kde=False)"
   ]
  },
  {
   "cell_type": "code",
   "execution_count": 48,
   "id": "905c18ab-d6c5-4afc-b11a-0896f65523d5",
   "metadata": {},
   "outputs": [
    {
     "data": {
      "text/plain": [
       "Ttest_indResult(statistic=-0.7393597924958364, pvalue=0.45969873156476293)"
      ]
     },
     "execution_count": 48,
     "metadata": {},
     "output_type": "execute_result"
    }
   ],
   "source": [
    "# do a t-test for users from the 2nd and 3rd experimental groups\n",
    "stats.ttest_ind(df[df.exp_group == 2].ctr,\n",
    "df[df.exp_group == 3].ctr,\n",
    "equal_var=False)"
   ]
  },
  {
   "cell_type": "code",
   "execution_count": 49,
   "id": "321af093-5100-4d95-927f-4040e1cf3273",
   "metadata": {},
   "outputs": [
    {
     "data": {
      "text/plain": [
       "0.8254100714529924"
      ]
     },
     "execution_count": 49,
     "metadata": {},
     "output_type": "execute_result"
    }
   ],
   "source": [
    "# do a t-test for subsamples of 500 users from the 2nd and 3rd experimental groups\n",
    "# get p-value\n",
    "tt = stats.ttest_ind(df[df.exp_group == 2].ctr.sample(n=500),\n",
    "df[df.exp_group == 3].ctr.sample(n=500),\n",
    "equal_var=False)\n",
    "tt.pvalue"
   ]
  },
  {
   "cell_type": "code",
   "execution_count": 50,
   "id": "3e25089b-813b-437c-bae2-ff3464a1313e",
   "metadata": {},
   "outputs": [
    {
     "data": {
      "text/plain": [
       "array([0.82136279, 0.39555756, 0.98366396, ..., 0.28316696, 0.01804438,\n",
       "       0.23520251])"
      ]
     },
     "execution_count": 50,
     "metadata": {},
     "output_type": "execute_result"
    }
   ],
   "source": [
    "# do 10,000 tests for subsamples of 500 users from the 2nd and 3rd experimental groups\n",
    "#save result in array\n",
    "result = []\n",
    "for i in range(10000):\n",
    "    tt = stats.ttest_ind(df[df.exp_group == 2].ctr.sample(n=500),\n",
    "    df[df.exp_group == 3].ctr.sample(n=500),\n",
    "    equal_var=False)\n",
    "    result.append(tt.pvalue)\n",
    "result = np.array(result)\n",
    "result"
   ]
  },
  {
   "cell_type": "code",
   "execution_count": 51,
   "id": "42d55881-9d19-4bd9-a648-3e5b9bdcf5a2",
   "metadata": {},
   "outputs": [
    {
     "data": {
      "text/plain": [
       "Text(0.5, 1.0, 'Distribution of p-value')"
      ]
     },
     "execution_count": 51,
     "metadata": {},
     "output_type": "execute_result"
    },
    {
     "data": {
      "image/png": "[encoded data removed]",
      "text/plain": [
       "<Figure size 842.4x595.44 with 1 Axes>"
      ]
     },
     "metadata": {},
     "output_type": "display_data"
    }
   ],
   "source": [
    "# create a histogram of the distribution of the results of 10,000 p-values\n",
    "plt.hist(result)\n",
    "plt.axvline(x=-0.001576, color='r')\n",
    "plt.title('Distribution of p-value')"
   ]
  },
  {
   "cell_type": "code",
   "execution_count": 52,
   "id": "3397be3b-d58f-43d2-9e80-8185fb570a8e",
   "metadata": {},
   "outputs": [
    {
     "data": {
      "text/plain": [
       "4.71"
      ]
     },
     "execution_count": 52,
     "metadata": {},
     "output_type": "execute_result"
    }
   ],
   "source": [
    "# percentage of p-values that <= 0.05\n",
    "persentage_pv = (result <= 0.05).sum() / 10000 * 100\n",
    "persentage_pv"
   ]
  },
  {
   "cell_type": "markdown",
   "source": [
    "H0: split system works correctly.\n",
    "Made t-test 10,000 times, a subsample of 500 users from groups 2 and 3.\n",
    "The result turned out to be less than 5%, which means that the split system works correctly and statistically significant differences between the 2nd and 3rd groups occur as a result of random false positives."
   ],
   "metadata": {
    "collapsed": false,
    "pycharm": {
     "name": "#%% md\n"
    }
   }
  }
 ],
 "metadata": {
  "kernelspec": {
   "display_name": "Python 3 (ipykernel)",
   "language": "python",
   "name": "python3"
  },
  "language_info": {
   "codemirror_mode": {
    "name": "ipython",
    "version": 3
   },
   "file_extension": ".py",
   "mimetype": "text/x-python",
   "name": "python",
   "nbconvert_exporter": "python",
   "pygments_lexer": "ipython3",
   "version": "3.9.1"
  }
 },
 "nbformat": 4,
 "nbformat_minor": 5
}